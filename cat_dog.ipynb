{
 "metadata": {
  "language_info": {
   "codemirror_mode": {
    "name": "ipython",
    "version": 3
   },
   "file_extension": ".py",
   "mimetype": "text/x-python",
   "name": "python",
   "nbconvert_exporter": "python",
   "pygments_lexer": "ipython3",
   "version": "3.7.4-final"
  },
  "orig_nbformat": 2,
  "kernelspec": {
   "name": "Python 3.7.4 64-bit ('base': conda)",
   "display_name": "Python 3.7.4 64-bit ('base': conda)",
   "metadata": {
    "interpreter": {
     "hash": "b3ba2566441a7c06988d0923437866b63cedc61552a5af99d1f4fb67d367b25f"
    }
   }
  }
 },
 "nbformat": 4,
 "nbformat_minor": 2,
 "cells": [
  {
   "cell_type": "code",
   "execution_count": 1,
   "metadata": {},
   "outputs": [],
   "source": [
    "import numpy as np \n",
    "import matplotlib.pyplot as plt \n",
    "import os \n",
    "import cv2 "
   ]
  },
  {
   "cell_type": "code",
   "execution_count": 2,
   "metadata": {},
   "outputs": [],
   "source": [
    "DATADIR = \"E:\\Current Semester Courses\\CSE497\\practice\\PetImages\"\n",
    "CATEGORIES = [\"Dog\",\"Cat\"]\n",
    "\n",
    "for  category in CATEGORIES:\n",
    "    path = os.path.join(DATADIR, category)\n",
    "    for img in os.listdir(path):\n",
    "        img_array = cv2.imread(os.path.join(path,img), cv2.IMREAD_GRAYSCALE)\n",
    "        "
   ]
  },
  {
   "cell_type": "code",
   "execution_count": 6,
   "metadata": {},
   "outputs": [],
   "source": [
    "IMG_SIZE = 100\n",
    "\n",
    "#new_array = cv2.resize(img_array, (IMG_SIZE, IMG_SIZE))\n",
    "#plt.imshow(new_array, cmap = \"gray\")\n",
    "#plt.show() "
   ]
  },
  {
   "cell_type": "code",
   "execution_count": 7,
   "metadata": {},
   "outputs": [],
   "source": [
    "training_data = []\n",
    "\n",
    "def create_training_data():\n",
    "    for  category in CATEGORIES:\n",
    "        path = os.path.join(DATADIR, category)\n",
    "        class_num = CATEGORIES.index(category) #This turns string type class to 0 and 1\n",
    "        for img in os.listdir(path):\n",
    "            try:\n",
    "                img_array = cv2.imread(os.path.join(path,img), cv2.IMREAD_GRAYSCALE)\n",
    "                new_array = cv2.resize(img_array, (IMG_SIZE, IMG_SIZE))\n",
    "                training_data.append([new_array, class_num])\n",
    "            except Exception as e:\n",
    "                pass #Some of the images are corrupted, they will thorow errors so passing them\n",
    "\n",
    "create_training_data()\n"
   ]
  },
  {
   "cell_type": "code",
   "execution_count": 8,
   "metadata": {},
   "outputs": [
    {
     "output_type": "stream",
     "name": "stdout",
     "text": [
      "24946\n"
     ]
    }
   ],
   "source": [
    "print(len(training_data))"
   ]
  },
  {
   "cell_type": "code",
   "execution_count": 9,
   "metadata": {},
   "outputs": [],
   "source": [
    "import random\n",
    "\n",
    "random.shuffle(training_data)"
   ]
  },
  {
   "cell_type": "code",
   "execution_count": 10,
   "metadata": {
    "tags": []
   },
   "outputs": [
    {
     "output_type": "stream",
     "name": "stdout",
     "text": [
      "0\n1\n1\n1\n0\n0\n0\n1\n0\n0\n"
     ]
    }
   ],
   "source": [
    "for sample in training_data[:10]:\n",
    "    print(sample[1]) #Printing shuffled lables of first 10 pictures"
   ]
  },
  {
   "cell_type": "code",
   "execution_count": 11,
   "metadata": {},
   "outputs": [],
   "source": [
    "import gc\n",
    "\n",
    "X = [] #Feature list\n",
    "y = [] #Label list\n",
    "\n",
    "for features, labels in training_data:\n",
    "    X.append(features)\n",
    "    y.append(labels)\n",
    "\n",
    "X = np.array(X).reshape(-1, IMG_SIZE, IMG_SIZE, 1) #resizing all the images from 2D to 1D array, here -1 means all data set\n",
    "gc.collect()\n",
    "y=np.array(y) #As converted X to numpy array, have to do the same to y"
   ]
  },
  {
   "cell_type": "code",
   "execution_count": 12,
   "metadata": {},
   "outputs": [],
   "source": [
    "np.save('features.npy',X) #saving previous feature data"
   ]
  },
  {
   "cell_type": "code",
   "execution_count": 13,
   "metadata": {},
   "outputs": [],
   "source": [
    "import tensorflow as tf \n",
    "from tensorflow.keras.models import Sequential \n",
    "from tensorflow.keras.layers import Dense, Dropout, Activation, Flatten, Conv2D, MaxPool2D"
   ]
  },
  {
   "cell_type": "code",
   "execution_count": 14,
   "metadata": {},
   "outputs": [],
   "source": [
    "X = np.load('features.npy') #loading previous feature data"
   ]
  },
  {
   "cell_type": "code",
   "execution_count": 15,
   "metadata": {},
   "outputs": [
    {
     "output_type": "stream",
     "name": "stdout",
     "text": [
      "Epoch 1/10\n",
      "702/702 [==============================] - 283s 403ms/step - loss: 7.6406 - accuracy: 0.4989 - val_loss: 7.4382 - val_accuracy: 0.5122\n",
      "Epoch 2/10\n",
      "702/702 [==============================] - 228s 325ms/step - loss: 7.6433 - accuracy: 0.4988 - val_loss: 7.4382 - val_accuracy: 0.5122\n",
      "Epoch 3/10\n",
      "702/702 [==============================] - 203s 289ms/step - loss: 7.6433 - accuracy: 0.4988 - val_loss: 7.4382 - val_accuracy: 0.5122\n",
      "Epoch 4/10\n",
      "702/702 [==============================] - 201s 286ms/step - loss: 7.6433 - accuracy: 0.4988 - val_loss: 7.4382 - val_accuracy: 0.5122\n",
      "Epoch 5/10\n",
      "702/702 [==============================] - 201s 286ms/step - loss: 7.6433 - accuracy: 0.4988 - val_loss: 7.4382 - val_accuracy: 0.5122\n",
      "Epoch 6/10\n",
      "702/702 [==============================] - 201s 287ms/step - loss: 7.6433 - accuracy: 0.4988 - val_loss: 7.4382 - val_accuracy: 0.5122\n",
      "Epoch 7/10\n",
      "702/702 [==============================] - 202s 287ms/step - loss: 7.6433 - accuracy: 0.4988 - val_loss: 7.4382 - val_accuracy: 0.5122\n",
      "Epoch 8/10\n",
      "702/702 [==============================] - 213s 303ms/step - loss: 7.6433 - accuracy: 0.4988 - val_loss: 7.4382 - val_accuracy: 0.5122\n",
      "Epoch 9/10\n",
      "702/702 [==============================] - 210s 298ms/step - loss: 7.6433 - accuracy: 0.4988 - val_loss: 7.4382 - val_accuracy: 0.5122\n",
      "Epoch 10/10\n",
      "702/702 [==============================] - 212s 302ms/step - loss: 7.6433 - accuracy: 0.4988 - val_loss: 7.4382 - val_accuracy: 0.5122\n"
     ]
    },
    {
     "output_type": "execute_result",
     "data": {
      "text/plain": [
       "<tensorflow.python.keras.callbacks.History at 0x1798134d488>"
      ]
     },
     "metadata": {},
     "execution_count": 15
    }
   ],
   "source": [
    "gc.collect()\n",
    "X=X/255.0 #Normalizing the data to 0 to 1 range\n",
    "\n",
    "model = Sequential()\n",
    "model.add(Conv2D(64, kernel_size=(3,3), strides=(1,1), activation=\"relu\", input_shape = X.shape[1:])) #X.shape --> gives you (24946, 50, 50, 1) and X.shape[1:] --> gives you (50, 50, 1), so you are not interested in the size of the dataset and drop it out.\n",
    "model.add(MaxPool2D(pool_size=(2,2), strides=(2,2))) #max pool window 2x2\n",
    "\n",
    "model.add(Conv2D(64, kernel_size=(3,3), strides=(1,1), activation=\"relu\"))\n",
    "model.add(MaxPool2D(pool_size=(2,2), strides=(2,2))) #max pool window 2x2\n",
    "\n",
    "model.add(Flatten()) #Dense layer 1D array chara input nite pare na, ti Flatten kore nicchi\n",
    "model.add(Dense(64, activation=\"relu\")) #Fully connected nn layer eta\n",
    "\n",
    "model.add(Dense(1, activation=\"relu\")) #Eta hocche output layer, amader output jehetu binary ti 1 ta node dilam\n",
    "\n",
    "model.compile(loss=\"binary_crossentropy\", optimizer=\"adam\", metrics=[\"accuracy\"])\n",
    "\n",
    "model.fit(X, y, batch_size=32, epochs=3, validation_split=0.1) \n"
   ]
  },
  {
   "cell_type": "code",
   "execution_count": null,
   "metadata": {},
   "outputs": [],
   "source": []
  }
 ]
}